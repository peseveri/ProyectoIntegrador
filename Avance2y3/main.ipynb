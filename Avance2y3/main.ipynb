{
 "cells": [
  {
   "cell_type": "code",
   "execution_count": 1,
   "id": "15d83d78",
   "metadata": {},
   "outputs": [
    {
     "name": "stdout",
     "output_type": "stream",
     "text": [
      "Iniciada la conexion a la base\n"
     ]
    }
   ],
   "source": [
    "#Se crea la conexion a la base de datos utilizando el patron Singleton para garantizar una unica conexion y se realizan todas las importaciones necesarias\n",
    "\n",
    "import sys\n",
    "import os\n",
    "\n",
    "sys.path.append(os.path.abspath(os.path.join('..', 'Avance2y3/tests')))\n",
    "\n",
    "from patterns.singleton_SQL import MySQLConnection\n",
    "from patterns.builder_SQL import QueryBuilder\n",
    "from patterns.strategy_SQL import KPIContext, TotalSalesKPI, SalesByCategoryKPI, CustomersCountKPI\n",
    "from test_patterns import run_all_tests\n",
    "\n",
    "conn1 = MySQLConnection()\n"
   ]
  },
  {
   "cell_type": "code",
   "execution_count": 2,
   "id": "e2875c24",
   "metadata": {},
   "outputs": [
    {
     "name": "stdout",
     "output_type": "stream",
     "text": [
      "    EmployeeID  FirstName MiddleInital   LastName  BirthDate Gender  CityID  \\\n",
      "0            1     Nicole            T     Fuller 1981-03-07      F      80   \n",
      "1            2  Christine            W     Palmer 1968-01-25      F       4   \n",
      "2            3      Pablo            Y      Cline 1963-02-09      M      70   \n",
      "3            4    Darnell            O    Nielsen 1989-02-06      M      39   \n",
      "4            5    Desiree            L     Stuart 1963-05-03      F      23   \n",
      "5            6      Holly            E    Collins 1987-01-13      M      65   \n",
      "6            7   Chadwick            P       Cook 1970-05-02      M      39   \n",
      "7            8      Julie            E       Dyer 1956-12-13      M      18   \n",
      "8            9     Daphne            X       King 1956-05-02      F      39   \n",
      "9           10       Jean            P       Vang 1963-12-30      M       9   \n",
      "10          11      Sonya            E    Dickson 1976-01-14      F      12   \n",
      "11          12    Lindsay            M       Chen 1951-09-03      F      58   \n",
      "12          13     Katina            Y      Marks 1963-04-18      M      68   \n",
      "13          14      Wendi            G    Buckley 1961-09-05      M      32   \n",
      "14          15       Kari            D     Finley 1972-02-17      M      92   \n",
      "15          16   Chadwick            U     Walton 1951-07-07      M      28   \n",
      "16          17       Seth            D     Franco 1989-08-29      M      80   \n",
      "17          18     Warren            C   Bartlett 1964-03-09      M      58   \n",
      "18          19    Bernard            L      Moody 1970-03-22      M      54   \n",
      "19          20     Shelby            P     Riddle 1964-06-13      M      14   \n",
      "20          21      Devon            D     Brewer 1966-04-25      M      65   \n",
      "21          22      Tonia            O  Mc Millan 1952-03-02      F      53   \n",
      "22          23      Janet            K    Flowers 1979-03-01      F       7   \n",
      "\n",
      "              HireDate  \n",
      "0  2011-06-20 07:15:37  \n",
      "1  2011-04-27 04:07:57  \n",
      "2  2012-03-30 18:55:23  \n",
      "3  2014-03-06 06:55:03  \n",
      "4  2014-11-16 22:59:55  \n",
      "5  2013-06-22 13:20:18  \n",
      "6  2016-07-10 06:22:01  \n",
      "7  2014-10-14 23:12:53  \n",
      "8  2013-04-17 14:48:03  \n",
      "9  2012-07-23 15:02:13  \n",
      "10 2016-08-10 15:59:30  \n",
      "11 2011-11-03 00:44:25  \n",
      "12 2011-12-12 10:43:53  \n",
      "13 2016-07-11 00:57:58  \n",
      "14 2014-07-13 06:50:12  \n",
      "15 2017-02-10 11:21:27  \n",
      "16 2010-07-11 09:23:03  \n",
      "17 2010-02-22 21:55:49  \n",
      "18 2013-11-12 19:25:04  \n",
      "19 2013-03-24 08:36:50  \n",
      "20 2016-01-24 02:13:24  \n",
      "21 2015-11-25 18:18:23  \n",
      "22 2010-05-12 02:52:30  \n"
     ]
    }
   ],
   "source": [
    "#Query basica usando el patron Singleton\n",
    "\n",
    "query = \"\"\"\n",
    "        SELECT * FROM EMPLOYEES\n",
    "        \"\"\"\n",
    "df = conn1.execute_query(query)\n",
    "print(df)"
   ]
  },
  {
   "cell_type": "code",
   "execution_count": 3,
   "id": "0ee4a58f",
   "metadata": {},
   "outputs": [
    {
     "name": "stdout",
     "output_type": "stream",
     "text": [
      "Consulta construida con Builder:\n",
      "SELECT c.CategoryName, COUNT(s.TotalPrice) AS total_sales FROM sales s JOIN products p ON s.ProductID = p.ProductID JOIN categories c ON p.CategoryId = c.CategoryId GROUP BY c.CategoryName ORDER BY total_sales DESC LIMIT 3\n",
      "\n",
      "Resultado de la consulta Builder:\n",
      "  CategoryName  total_sales\n",
      "0  Confections         6299\n",
      "1         Meat         5486\n",
      "2      Poultry         5156\n"
     ]
    }
   ],
   "source": [
    "#Se utiliza el patron Builder para ir armando dinamicamente una consulta\n",
    "builder = QueryBuilder()\n",
    "query = (builder.select(\"c.CategoryName\", \"COUNT(s.TotalPrice) AS total_sales\")\n",
    "               .from_table(\"sales s\")\n",
    "               .join(\"JOIN products p ON s.ProductID = p.ProductID\")\n",
    "               .join(\"JOIN categories c ON p.CategoryId = c.CategoryId\")\n",
    "               .group_by(\"c.CategoryName\")\n",
    "               .order_by(\"total_sales DESC\")\n",
    "               .limit(3)\n",
    "               .build())\n",
    "print(\"Consulta construida con Builder:\")\n",
    "print(query)\n",
    "\n",
    "df_builder = conn1.execute_query(query)\n",
    "print(\"\\nResultado de la consulta Builder:\")\n",
    "print(df_builder)"
   ]
  },
  {
   "cell_type": "code",
   "execution_count": 4,
   "id": "b3854c74",
   "metadata": {},
   "outputs": [
    {
     "name": "stdout",
     "output_type": "stream",
     "text": [
      "Total ventas: $7863619.00\n",
      "Total customers: 98759\n",
      "Sales by category:\n",
      "   CategoryName  total_sales\n",
      "0   Confections         6299\n",
      "1          Meat         5486\n",
      "2       Poultry         5156\n",
      "3       Cereals         5110\n",
      "4       Produce         4771\n",
      "5     Beverages         4196\n",
      "6        Snails         4119\n",
      "7       Seafood         4059\n",
      "8    Shell fish         3949\n",
      "9         Dairy         3892\n",
      "10        Grain         2963\n"
     ]
    }
   ],
   "source": [
    "#Se utiliza el patron Strategy para armar distintos KPIs\n",
    "\n",
    "kpi_context = KPIContext(TotalSalesKPI(conn1))\n",
    "total_sales = kpi_context.get_kpi()\n",
    "print(f\"Total ventas: ${total_sales}\")\n",
    "\n",
    "kpi_context = KPIContext(CustomersCountKPI(conn1))\n",
    "total_customers = kpi_context.get_kpi()\n",
    "print(f\"Total customers: {total_customers}\")\n",
    "\n",
    "kpi_context = KPIContext(SalesByCategoryKPI(conn1))\n",
    "sales_category = kpi_context.get_kpi()\n",
    "print(\"Sales by category:\")\n",
    "print(f\"{sales_category}\")"
   ]
  },
  {
   "cell_type": "code",
   "execution_count": 5,
   "id": "a7149028",
   "metadata": {},
   "outputs": [
    {
     "name": "stdout",
     "output_type": "stream",
     "text": [
      "✔ test_singleton_connection passed\n",
      "✔ test_builder_query_structure passed\n",
      "✔ test_strategy_total_sales_kpi passed\n",
      "✔ test_strategy_sales_by_category_kpi passed\n",
      "✔ test_strategy_customers_count_kpi passed\n",
      "✅ Todas las pruebas pasaron correctamente.\n"
     ]
    }
   ],
   "source": [
    "#Se corre esta funcion general de test que lo que hace es correr todos los tests para el avance 2\n",
    "run_all_tests()"
   ]
  },
  {
   "cell_type": "code",
   "execution_count": null,
   "id": "4965cdb1",
   "metadata": {},
   "outputs": [],
   "source": [
    "################################ AVANCE 3 ##########################################\n",
    "\n",
    "#las justificaciones de las decisiones se encuentran en el README"
   ]
  },
  {
   "cell_type": "code",
   "execution_count": null,
   "id": "e2709974",
   "metadata": {},
   "outputs": [
    {
     "name": "stdout",
     "output_type": "stream",
     "text": [
      "Sentencia DDL ejecutada exitosamente.\n",
      "Sentencia DDL ejecutada exitosamente.\n",
      "   Table  Non_unique                 Key_name  Seq_in_index    Column_name  \\\n",
      "0  sales           0                  PRIMARY             1        SalesID   \n",
      "1  sales           1  idx_sales_salespersonid             1  SalesPersonID   \n",
      "2  sales           1     idx_sales_customerid             1     CustomerId   \n",
      "\n",
      "  Collation  Cardinality Sub_part Packed Null Index_type Comment  \\\n",
      "0         A        52607     None   None           BTREE           \n",
      "1         A           22     None   None  YES      BTREE           \n",
      "2         A        39494     None   None  YES      BTREE           \n",
      "\n",
      "  Index_comment Visible Expression  \n",
      "0                   YES       None  \n",
      "1                   YES       None  \n",
      "2                   YES       None  \n"
     ]
    }
   ],
   "source": [
    "#Creacion de indices desde python\n",
    "\n",
    "# Índice en SalesPersonID (para uniones con la tabla employees)\n",
    "conn1.execute_ddl(\"CREATE INDEX idx_sales_salespersonid ON sales (SalesPersonID);\")\n",
    "\n",
    "#Índice en CustomerId (para uniones con la tabla customers)\n",
    "conn1.execute_ddl(\"CREATE INDEX idx_sales_customerid ON sales (CustomerId);\")\n",
    "\n",
    "#Verifico los indices si se crearon\n",
    "verify_indexs = conn1.execute_query(\"SHOW INDEX FROM sales;\")\n",
    "print(verify_indexs)"
   ]
  },
  {
   "cell_type": "code",
   "execution_count": 7,
   "id": "a9bf1750",
   "metadata": {},
   "outputs": [
    {
     "name": "stdout",
     "output_type": "stream",
     "text": [
      "     ProductID  total_ventas                      ProductName\n",
      "0            1           108              Flour - Whole Wheat\n",
      "1            2           114       Cookie Chocolate Chip With\n",
      "2            3           111               Onions - Cippolini\n",
      "3            4           123       Sauce - Gravy; Au Jus; Mix\n",
      "4            5           101           Artichokes - Jerusalem\n",
      "..         ...           ...                              ...\n",
      "371        446           101               Sunflower Seed Raw\n",
      "372        447           102       Salmon - Atlantic; Skin On\n",
      "373        450           132    Wine - Vidal Icewine Magnotta\n",
      "374        451           125  Soup - Campbells Tomato Ravioli\n",
      "375        452           122          Napkin White - Starched\n",
      "\n",
      "[376 rows x 3 columns]\n"
     ]
    }
   ],
   "source": [
    "#CTE para obtener el total de ventas por producto, y luego filtrar los productos que hayan tenido más de 100 ventas.\n",
    "\n",
    "query = \"\"\"\n",
    "        WITH ventas_por_producto AS (\n",
    "            SELECT \n",
    "                ProductID,\n",
    "                COUNT(*) AS total_ventas\n",
    "            FROM sales\n",
    "            GROUP BY ProductID\n",
    "        )\n",
    "        SELECT \n",
    "            vp.ProductID,\n",
    "            vp.total_ventas,\n",
    "            p.ProductName\n",
    "        FROM ventas_por_producto vp\n",
    "        JOIN products p ON p.ProductID = vp.ProductID\n",
    "        WHERE vp.total_ventas > 100;\n",
    "        \"\"\"\n",
    "df = conn1.execute_query(query)\n",
    "print(df)"
   ]
  },
  {
   "cell_type": "code",
   "execution_count": 8,
   "id": "ab1ede7d",
   "metadata": {},
   "outputs": [
    {
     "name": "stdout",
     "output_type": "stream",
     "text": [
      "       CustomerId       SalesDate  Quantity acumulado_cliente\n",
      "0               1 0 days 23:37:01         1                 1\n",
      "1               1 2 days 07:10:00         1                 2\n",
      "2               4 1 days 04:56:00         1                 1\n",
      "3               8 0 days 11:43:00         1                 1\n",
      "4              10 0 days 15:16:00         1                 1\n",
      "...           ...             ...       ...               ...\n",
      "49995       98749 1 days 09:20:00        25                25\n",
      "49996       98750 1 days 14:20:01        25                25\n",
      "49997       98751 1 days 06:33:00        25                25\n",
      "49998       98752 1 days 19:02:00        25                25\n",
      "49999       98756 2 days 09:40:00        25                25\n",
      "\n",
      "[50000 rows x 4 columns]\n"
     ]
    }
   ],
   "source": [
    "#Funcion ventana para cada venta, mostrar el total acumulado de ventas por cliente (customer_id) ordenado cronológicamente.\n",
    "\n",
    "query = \"\"\"\n",
    "        SELECT\n",
    "        CustomerId,\n",
    "        SalesDate,\n",
    "        Quantity,\n",
    "        SUM(Quantity) OVER (PARTITION BY CustomerId ORDER BY SalesDate) AS acumulado_cliente\n",
    "        FROM sales; \n",
    "        \"\"\"\n",
    "df = conn1.execute_query(query)\n",
    "print(df)"
   ]
  },
  {
   "cell_type": "code",
   "execution_count": 9,
   "id": "276c5f25",
   "metadata": {},
   "outputs": [
    {
     "name": "stdout",
     "output_type": "stream",
     "text": [
      "Sentencia DDL ejecutada exitosamente.\n",
      "Vista 'detailed_sales_report' creada.\n",
      "   SalesID  Quantity Discount TotalPrice       SalesDate  \\\n",
      "0     1379        14     0.10      14.00 1 days 00:52:01   \n",
      "1     7884        11     0.00      11.00 1 days 14:52:01   \n",
      "2    10389        22     0.00      22.00 1 days 23:34:00   \n",
      "3    10628        22     0.00      22.00 0 days 22:36:00   \n",
      "4    13687        13     0.00      13.00 1 days 16:58:01   \n",
      "\n",
      "        TransactionNumber                 ProductName ProductUnitPrice  \\\n",
      "0  7GWH7VPLA9Y79GNXZ4ZS\\r   Ice Cream Bar - Drumstick          24.7560   \n",
      "1  OZCGXCI0K7XTJOBQR2QH\\r                 Scampi Tail          95.0957   \n",
      "2  1YL3MRV7RLUDEV0MSFPD\\r  Wine - Sogrape Mateus Rose           3.7805   \n",
      "3  GNDKLBFCE4KONCOTJR55\\r               Vanilla Beans          97.8435   \n",
      "4  W1T93XHO8LUHX2NAOYN1\\r                 Bread - Rye          83.5373   \n",
      "\n",
      "  CategoryName   Class Resistant IsAllergic  VitalityDays CustomerFirstName  \\\n",
      "0        Dairy  Medium      Weak       TRUE             0            Dianna   \n",
      "1        Dairy     Low      Weak       TRUE           105            Alfred   \n",
      "2    Beverages     Low   Unknown       TRUE           108             Sonja   \n",
      "3      Poultry     Low   Durable      FALSE             0          Marcella   \n",
      "4      Cereals     Low   Durable       TRUE             0             Alvin   \n",
      "\n",
      "  CustomerLastName CustomerCity CustomerCountry SalesPersonFirstName  \\\n",
      "0        Whitehead      Spokane   United States               Nicole   \n",
      "1          Shelton      Lincoln   United States               Nicole   \n",
      "2           French     San Jose   United States               Nicole   \n",
      "3          Mcclain   Shreveport   United States               Nicole   \n",
      "4         Caldwell      Wichita   United States               Nicole   \n",
      "\n",
      "  SalesPersonLastName SalesPersonGender  \n",
      "0              Fuller                 F  \n",
      "1              Fuller                 F  \n",
      "2              Fuller                 F  \n",
      "3              Fuller                 F  \n",
      "4              Fuller                 F  \n"
     ]
    }
   ],
   "source": [
    "#Se crea y se ejecuta una vista desde python \n",
    "view_sql = \"\"\"\n",
    "        CREATE OR REPLACE VIEW detailed_sales_report AS\n",
    "        SELECT\n",
    "            s.SalesID,\n",
    "            s.Quantity,\n",
    "            s.Discount,\n",
    "            s.TotalPrice,\n",
    "            s.SalesDate,\n",
    "            s.TransactionNumber,\n",
    "            p.ProductName,\n",
    "            p.Price AS ProductUnitPrice,\n",
    "            c.CategoryName,\n",
    "            p.Class,\n",
    "            p.Resistant,\n",
    "            p.IsAllergic,\n",
    "            p.VitalityDays,\n",
    "            cust.FirstName AS CustomerFirstName,\n",
    "            cust.LastName AS CustomerLastName,\n",
    "            city.CityName AS CustomerCity,\n",
    "            country.CountryName AS CustomerCountry,\n",
    "            emp.FirstName AS SalesPersonFirstName,\n",
    "            emp.LastName AS SalesPersonLastName,\n",
    "            emp.Gender AS SalesPersonGender\n",
    "        FROM\n",
    "            sales s\n",
    "        JOIN\n",
    "            products p ON s.ProductID = p.ProductID\n",
    "        JOIN\n",
    "            categories c ON p.CategoryID = c.CategoryID\n",
    "        JOIN\n",
    "            customers cust ON s.CustomerId = cust.CustomerID\n",
    "        JOIN\n",
    "            cities city ON cust.CityID = city.CityID\n",
    "        JOIN\n",
    "            countries country ON city.CountryID = country.CountryID\n",
    "        JOIN\n",
    "            employees emp ON s.SalesPersonID = emp.EmployeeID;\n",
    "        \"\"\"\n",
    "conn1.execute_ddl(view_sql)\n",
    "print(\"Vista 'detailed_sales_report' creada.\")\n",
    "\n",
    "query_view_sql = \"SELECT * FROM detailed_sales_report LIMIT 5;\"\n",
    "df_sales_report = conn1.execute_query(query_view_sql)\n",
    "print(df_sales_report)"
   ]
  },
  {
   "cell_type": "code",
   "execution_count": 10,
   "id": "c655f9c9",
   "metadata": {},
   "outputs": [
    {
     "name": "stdout",
     "output_type": "stream",
     "text": [
      "Sentencia DDL ejecutada exitosamente.\n",
      "Funcion 'CALCULATE_SALE_TOTAL_PRICE' creada.\n"
     ]
    }
   ],
   "source": [
    "#Se crea una funcion desde python \n",
    "function_sql = \"\"\"\n",
    "                DELIMITER $$\n",
    "\n",
    "                CREATE FUNCTION CALCULATE_SALE_TOTAL_PRICE(\n",
    "                    p_unit_price DECIMAL(10,4),\n",
    "                    p_quantity INT,\n",
    "                    p_discount DECIMAL(4,2)\n",
    "                )\n",
    "                RETURNS DECIMAL(10,2)\n",
    "                DETERMINISTIC\n",
    "                BEGIN\n",
    "                    DECLARE v_total_price DECIMAL(10,2);\n",
    "\n",
    "                    -- Validar que el descuento no sea negativo y no supere el 100%\n",
    "                    IF p_discount < 0 OR p_discount > 1 THEN\n",
    "                        -- Puedes manejar este error de alguna manera, por ejemplo, lanzando una excepción\n",
    "                        -- Para este ejemplo, simplemente ajustaremos el descuento si está fuera de rango.\n",
    "                        SET p_discount = LEAST(GREATEST(p_discount, 0), 1); -- Asegura que esté entre 0 y 1\n",
    "                    END IF;\n",
    "\n",
    "                    -- Calcular el precio total: (precio_unitario * cantidad) * (1 - descuento)\n",
    "                    SET v_total_price = (p_unit_price * p_quantity) * (1 - p_discount);\n",
    "\n",
    "                    RETURN v_total_price;\n",
    "                END $$\n",
    "\n",
    "                DELIMITER ;\n",
    "                \"\"\"\n",
    "conn1.execute_ddl(function_sql)\n",
    "print(\"Funcion 'CALCULATE_SALE_TOTAL_PRICE' creada.\")\n",
    "\n",
    "\n"
   ]
  },
  {
   "cell_type": "code",
   "execution_count": 11,
   "id": "5a370103",
   "metadata": {},
   "outputs": [
    {
     "name": "stdout",
     "output_type": "stream",
     "text": [
      "\n",
      "Ejemplos de uso de la función 'CALCULATE_SALE_TOTAL_PRICE':\n",
      "Precio Total (100 * 2, sin descuento): 200.00\n",
      "Precio Total (100 * 2, 10% descuento): 180.00\n",
      "Precio Total (75.50 * 5, 25% descuento): 283.13\n",
      "\n",
      "Calculando el precio de una venta usando datos de la tabla products (ProductoID = 1):\n",
      "           ProductName    Price  QuantitySold DiscountApplied  \\\n",
      "0  Flour - Whole Wheat  74.2988             5            0.15   \n",
      "\n",
      "  CalculatedSalePrice  \n",
      "0              315.77  \n"
     ]
    }
   ],
   "source": [
    "#Se ejecuta la funcion desde python \n",
    "\n",
    "# Ejemplos de uso de la función\n",
    "print(\"\\nEjemplos de uso de la función 'CALCULATE_SALE_TOTAL_PRICE':\")       \n",
    "# Ejemplo 1: Sin descuento\n",
    "df1 = conn1.execute_query(\"SELECT CALCULATE_SALE_TOTAL_PRICE(100.00, 2, 0.00) AS TotalPrice;\")\n",
    "print(f\"Precio Total (100 * 2, sin descuento): {df1.iloc[0]['TotalPrice']}\")\n",
    "# Ejemplo 2: Con 10% de descuento\n",
    "df2 = conn1.execute_query(\"SELECT CALCULATE_SALE_TOTAL_PRICE(100.00, 2, 0.10) AS TotalPrice;\")\n",
    "print(f\"Precio Total (100 * 2, 10% descuento): {df2.iloc[0]['TotalPrice']}\")\n",
    "# Ejemplo 3: Con 25% de descuento y cantidad diferente\n",
    "df3 = conn1.execute_query(\"SELECT CALCULATE_SALE_TOTAL_PRICE(75.50, 5, 0.25) AS TotalPrice;\")\n",
    "print(f\"Precio Total (75.50 * 5, 25% descuento): {df3.iloc[0]['TotalPrice']}\")\n",
    "# Ejemplo 4: Usar la función con datos las tablas (ej: para un producto específico)\n",
    "print(\"\\nCalculando el precio de una venta usando datos de la tabla products (ProductoID = 1):\")\n",
    "query_with_data = \"\"\"\n",
    "SELECT\n",
    "    p.ProductName,\n",
    "    p.Price,\n",
    "    5 AS QuantitySold, -- Cantidad arbitraria para el ejemplo\n",
    "    0.15 AS DiscountApplied, -- Descuento arbitrario\n",
    "    CALCULATE_SALE_TOTAL_PRICE(p.Price, 5, 0.15) AS CalculatedSalePrice\n",
    "FROM\n",
    "    products p\n",
    "WHERE\n",
    "    p.ProductID = 1;\n",
    "\"\"\"\n",
    "df_product_sale = conn1.execute_query(query_with_data)\n",
    "print(df_product_sale)"
   ]
  },
  {
   "cell_type": "code",
   "execution_count": 12,
   "id": "f0e9b7c6",
   "metadata": {},
   "outputs": [
    {
     "name": "stdout",
     "output_type": "stream",
     "text": [
      "Finalizada la conexion a la base\n"
     ]
    }
   ],
   "source": [
    "conn1.close_engine()"
   ]
  }
 ],
 "metadata": {
  "kernelspec": {
   "display_name": "venv",
   "language": "python",
   "name": "python3"
  },
  "language_info": {
   "codemirror_mode": {
    "name": "ipython",
    "version": 3
   },
   "file_extension": ".py",
   "mimetype": "text/x-python",
   "name": "python",
   "nbconvert_exporter": "python",
   "pygments_lexer": "ipython3",
   "version": "3.11.9"
  }
 },
 "nbformat": 4,
 "nbformat_minor": 5
}
