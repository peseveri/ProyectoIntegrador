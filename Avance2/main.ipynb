{
 "cells": [
  {
   "cell_type": "code",
   "execution_count": 1,
   "id": "15d83d78",
   "metadata": {},
   "outputs": [],
   "source": [
    "#Se crea la conexion a la base de datos utilizando el patron Singleton para garantizar una unica conexion y se realizan todas las importaciones necesarias\n",
    "\n",
    "import sys\n",
    "import os\n",
    "\n",
    "sys.path.append(os.path.abspath(os.path.join('..', 'Avance2/tests')))\n",
    "\n",
    "from patterns.singleton_SQL import MySQLConnection\n",
    "from patterns.builder_SQL import QueryBuilder\n",
    "from patterns.strategy_SQL import KPIContext, TotalSalesKPI, SalesByCategoryKPI, CustomersCountKPI\n",
    "from test_patterns import run_all_tests\n",
    "\n",
    "conn1 = MySQLConnection()\n"
   ]
  },
  {
   "cell_type": "code",
   "execution_count": 13,
   "id": "9998d178",
   "metadata": {},
   "outputs": [
    {
     "name": "stdout",
     "output_type": "stream",
     "text": [
      "     ProductID  total_ventas                      ProductName\n",
      "0            1           108              Flour - Whole Wheat\n",
      "1            2           114       Cookie Chocolate Chip With\n",
      "2            3           111               Onions - Cippolini\n",
      "3            4           123       Sauce - Gravy; Au Jus; Mix\n",
      "4            5           101           Artichokes - Jerusalem\n",
      "..         ...           ...                              ...\n",
      "371        446           101               Sunflower Seed Raw\n",
      "372        447           102       Salmon - Atlantic; Skin On\n",
      "373        450           132    Wine - Vidal Icewine Magnotta\n",
      "374        451           125  Soup - Campbells Tomato Ravioli\n",
      "375        452           122          Napkin White - Starched\n",
      "\n",
      "[376 rows x 3 columns]\n"
     ]
    }
   ],
   "source": [
    "#CTE para obtener el total de ventas por producto, y luego filtrar los productos que hayan tenido más de 100 ventas.\n",
    "\n",
    "query = \"\"\"\n",
    "        WITH ventas_por_producto AS (\n",
    "            SELECT \n",
    "                ProductID,\n",
    "                COUNT(*) AS total_ventas\n",
    "            FROM sales\n",
    "            GROUP BY ProductID\n",
    "        )\n",
    "        SELECT \n",
    "            vp.ProductID,\n",
    "            vp.total_ventas,\n",
    "            p.ProductName\n",
    "        FROM ventas_por_producto vp\n",
    "        JOIN products p ON p.ProductID = vp.ProductID\n",
    "        WHERE vp.total_ventas > 100;\n",
    "        \"\"\"\n",
    "df = conn1.execute_query(query)\n",
    "print(df)"
   ]
  },
  {
   "cell_type": "code",
   "execution_count": 18,
   "id": "658c9fa6",
   "metadata": {},
   "outputs": [
    {
     "name": "stdout",
     "output_type": "stream",
     "text": [
      "       CustomerId       SalesDate  Quantity acumulado_cliente\n",
      "0               1 0 days 23:37:01         1                 1\n",
      "1               1 2 days 07:10:00         1                 2\n",
      "2               4 1 days 04:56:00         1                 1\n",
      "3               8 0 days 11:43:00         1                 1\n",
      "4              10 0 days 15:16:00         1                 1\n",
      "...           ...             ...       ...               ...\n",
      "49995       98749 1 days 09:20:00        25                25\n",
      "49996       98750 1 days 14:20:01        25                25\n",
      "49997       98751 1 days 06:33:00        25                25\n",
      "49998       98752 1 days 19:02:00        25                25\n",
      "49999       98756 2 days 09:40:00        25                25\n",
      "\n",
      "[50000 rows x 4 columns]\n"
     ]
    }
   ],
   "source": [
    "#Funcion ventana para cada venta, mostrar el total acumulado de ventas por cliente (customer_id) ordenado cronológicamente.\n",
    "\n",
    "query = \"\"\"\n",
    "        SELECT\n",
    "        CustomerId,\n",
    "        SalesDate,\n",
    "        Quantity,\n",
    "        SUM(Quantity) OVER (PARTITION BY CustomerId ORDER BY SalesDate) AS acumulado_cliente\n",
    "        FROM sales; \n",
    "        \"\"\"\n",
    "df = conn1.execute_query(query)\n",
    "print(df)"
   ]
  },
  {
   "cell_type": "code",
   "execution_count": null,
   "id": "0ee4a58f",
   "metadata": {},
   "outputs": [
    {
     "name": "stdout",
     "output_type": "stream",
     "text": [
      "Consulta construida con Builder:\n",
      "SELECT c.CategoryName, COUNT(s.TotalPrice) AS total_sales FROM sales s JOIN products p ON s.ProductID = p.ProductID JOIN categories c ON p.CategoryId = c.CategoryId GROUP BY c.CategoryName ORDER BY total_sales DESC LIMIT 3\n",
      "\n",
      "Resultado de la consulta Builder:\n",
      "  CategoryName  total_sales\n",
      "0  Confections         6299\n",
      "1         Meat         5486\n",
      "2      Poultry         5156\n"
     ]
    }
   ],
   "source": [
    "#Se utiliza el patron Builder para ir armando dinamicamente una consulta\n",
    "builder = QueryBuilder()\n",
    "query = (builder.select(\"c.CategoryName\", \"COUNT(s.TotalPrice) AS total_sales\")\n",
    "               .from_table(\"sales s\")\n",
    "               .join(\"JOIN products p ON s.ProductID = p.ProductID\")\n",
    "               .join(\"JOIN categories c ON p.CategoryId = c.CategoryId\")\n",
    "               .group_by(\"c.CategoryName\")\n",
    "               .order_by(\"total_sales DESC\")\n",
    "               .limit(3)\n",
    "               .build())\n",
    "print(\"Consulta construida con Builder:\")\n",
    "print(query)\n",
    "\n",
    "df_builder = conn1.execute_query(query)\n",
    "print(\"\\nResultado de la consulta Builder:\")\n",
    "print(df_builder)"
   ]
  },
  {
   "cell_type": "code",
   "execution_count": null,
   "id": "b3854c74",
   "metadata": {},
   "outputs": [
    {
     "name": "stdout",
     "output_type": "stream",
     "text": [
      "Total ventas: $7863619.00\n",
      "Total customers: 98759\n",
      "Sales by category:\n",
      "   CategoryName  total_sales\n",
      "0   Confections         6299\n",
      "1          Meat         5486\n",
      "2       Poultry         5156\n",
      "3       Cereals         5110\n",
      "4       Produce         4771\n",
      "5     Beverages         4196\n",
      "6        Snails         4119\n",
      "7       Seafood         4059\n",
      "8    Shell fish         3949\n",
      "9         Dairy         3892\n",
      "10        Grain         2963\n"
     ]
    }
   ],
   "source": [
    "#Se utiliza el patron Strategy para armar distintos KPIs\n",
    "\n",
    "kpi_context = KPIContext(TotalSalesKPI(conn1))\n",
    "total_sales = kpi_context.get_kpi()\n",
    "print(f\"Total ventas: ${total_sales}\")\n",
    "\n",
    "kpi_context = KPIContext(CustomersCountKPI(conn1))\n",
    "total_customers = kpi_context.get_kpi()\n",
    "print(f\"Total customers: {total_customers}\")\n",
    "\n",
    "kpi_context = KPIContext(SalesByCategoryKPI(conn1))\n",
    "sales_category = kpi_context.get_kpi()\n",
    "print(\"Sales by category:\")\n",
    "print(f\"{sales_category}\")"
   ]
  },
  {
   "cell_type": "code",
   "execution_count": 2,
   "id": "a7149028",
   "metadata": {},
   "outputs": [
    {
     "name": "stdout",
     "output_type": "stream",
     "text": [
      "✔ test_singleton_connection passed\n",
      "✔ test_builder_query_structure passed\n",
      "✔ test_strategy_total_sales_kpi passed\n",
      "✔ test_strategy_sales_by_category_kpi passed\n",
      "✔ test_strategy_customers_count_kpi passed\n",
      "✅ Todas las pruebas pasaron correctamente.\n",
      "Finalizada la conexion a la base\n"
     ]
    }
   ],
   "source": [
    "#Se corre esta funcion general de test que lo que hace es correr todos los tests para el avance 2 y se termina la conexion a la base\n",
    "run_all_tests()\n",
    "conn1.close_engine()\n"
   ]
  }
 ],
 "metadata": {
  "kernelspec": {
   "display_name": "venv",
   "language": "python",
   "name": "python3"
  },
  "language_info": {
   "codemirror_mode": {
    "name": "ipython",
    "version": 3
   },
   "file_extension": ".py",
   "mimetype": "text/x-python",
   "name": "python",
   "nbconvert_exporter": "python",
   "pygments_lexer": "ipython3",
   "version": "3.11.9"
  }
 },
 "nbformat": 4,
 "nbformat_minor": 5
}
